{
 "cells": [
  {
   "cell_type": "code",
   "execution_count": 20,
   "id": "6141b59d",
   "metadata": {},
   "outputs": [],
   "source": [
    "from langgraph.graph import StateGraph, START, END\n",
    "from langchain_google_genai import ChatGoogleGenerativeAI  # Updated import\n",
    "from dotenv import load_dotenv\n",
    "from typing import TypedDict, List\n",
    "from pydantic import BaseModel, Field\n",
    "import operator"
   ]
  },
  {
   "cell_type": "code",
   "execution_count": 13,
   "id": "ca9e6190",
   "metadata": {},
   "outputs": [
    {
     "data": {
      "text/plain": [
       "True"
      ]
     },
     "execution_count": 13,
     "metadata": {},
     "output_type": "execute_result"
    }
   ],
   "source": [
    "load_dotenv()"
   ]
  },
  {
   "cell_type": "code",
   "execution_count": 14,
   "id": "4b72b4ed",
   "metadata": {},
   "outputs": [],
   "source": [
    "model = ChatGoogleGenerativeAI(model=\"gemini-2.5-flash\")"
   ]
  },
  {
   "cell_type": "code",
   "execution_count": 15,
   "id": "78b6bdd2",
   "metadata": {},
   "outputs": [],
   "source": [
    "class EvaluationSchema(BaseModel):\n",
    "    feedback: str = Field(description='detaild feedback for the essay')\n",
    "    score: int = Field(description='Score out of 10',ge=0,le=10)\n",
    "    "
   ]
  },
  {
   "cell_type": "code",
   "execution_count": 16,
   "id": "4242e1a6",
   "metadata": {},
   "outputs": [],
   "source": [
    "structured_model = model.with_structured_output(EvaluationSchema)"
   ]
  },
  {
   "cell_type": "code",
   "execution_count": 17,
   "id": "3759dd99",
   "metadata": {},
   "outputs": [],
   "source": [
    "essay = \"\"\"\n",
    "        Artificial Intelligence (AI) has emerged as one of the most transformative technologies of the 21st century, reshaping industries, economies, and societies through automation, data analysis, and intelligent decision-making. As the world races to harness AI's potential, India stands out as a key player, leveraging its vast talent pool, government initiatives, and strategic investments to position itself as a global AI powerhouse. With a population exceeding 1.4 billion and a burgeoning digital economy, India's role in AI is not merely participatory but increasingly influential, driving innovation that addresses both domestic challenges and global needs. This essay explores India's contributions to AI, from policy frameworks and industry advancements to talent development and future prospects, highlighting how the nation is shaping the AI landscape.\n",
    "        India's journey in AI began gaining momentum in the late 2010s, with foundational efforts to integrate the technology into national development. In 2018, the National Institution for Transforming India (NITI Aayog), the government's premier think tank, released the National Strategy for Artificial Intelligence, titled \"#AIforAll.\" This document identified key sectors such as healthcare, agriculture, education, smart cities, and transportation where AI could drive inclusive growth. Recognizing India's unique position as the world's fastest-growing major economy and second-most populous nation, the strategy emphasized AI's potential to solve pressing issues like poverty alleviation and resource optimization. By 2023, this vision evolved into the IndiaAI Mission, a comprehensive program backed by approximately USD 1.2 billion in funding to build an ecosystem fostering AI innovation. The mission focuses on democratizing access to computing infrastructure, datasets, and talent, ensuring AI benefits reach underserved populations.\n",
    "        Government initiatives have been pivotal in propelling India's AI agenda. The Union Budget for 2025-2026 allocated INR 20,000 crores (about USD 2.4 billion) to AI research and development, signaling a commitment to long-term growth. Programs like Digital India and the Global Partnership on Artificial Intelligence (GPAI), where India served as chair, underscore ethical AI development and international collaboration. Prime Minister Narendra Modi's administration has emphasized AI's role in governance, with initiatives like AI-powered public services and the AI Action Summit in Paris, where India co-chaired discussions on global standards.\n",
    "        \"\"\""
   ]
  },
  {
   "cell_type": "code",
   "execution_count": 18,
   "id": "b08a3f46",
   "metadata": {},
   "outputs": [
    {
     "data": {
      "text/plain": [
       "\"The essay demonstrates excellent language quality, characterized by clear, concise, and coherent writing. The introduction effectively sets the stage, and the subsequent paragraphs are well-structured, providing strong evidence and examples to support India's contributions to AI, such as the NITI Aayog's '#AIforAll' strategy, the IndiaAI Mission, and significant budget allocations. The vocabulary is appropriate and sophisticated, enhancing the professional tone. There are no noticeable grammatical errors or awkward phrasing, contributing to a smooth and engaging reading experience. The essay effectively communicates complex information about India's AI landscape, showcasing a solid grasp of the subject matter and an ability to articulate it persuasively.\""
      ]
     },
     "execution_count": 18,
     "metadata": {},
     "output_type": "execute_result"
    }
   ],
   "source": [
    "prompt = f'''Evaluate the language quality of the following essay and provide feedback and assign a score out of 10\\n {essay}'''\n",
    "structured_model.invoke(prompt).feedback # type: ignore"
   ]
  },
  {
   "cell_type": "code",
   "execution_count": null,
   "id": "620b2c37",
   "metadata": {},
   "outputs": [
    {
     "ename": "NameError",
     "evalue": "name 'Annotated' is not defined",
     "output_type": "error",
     "traceback": [
      "\u001b[31m---------------------------------------------------------------------------\u001b[39m",
      "\u001b[31mNameError\u001b[39m                                 Traceback (most recent call last)",
      "\u001b[36mCell\u001b[39m\u001b[36m \u001b[39m\u001b[32mIn[21]\u001b[39m\u001b[32m, line 1\u001b[39m\n\u001b[32m----> \u001b[39m\u001b[32m1\u001b[39m \u001b[38;5;28;43;01mclass\u001b[39;49;00m\u001b[38;5;250;43m \u001b[39;49m\u001b[34;43;01mUPSCState\u001b[39;49;00m\u001b[43m(\u001b[49m\u001b[43mTypedDict\u001b[49m\u001b[43m)\u001b[49m\u001b[43m:\u001b[49m\n\u001b[32m      2\u001b[39m \u001b[43m    \u001b[49m\u001b[43messay\u001b[49m\u001b[43m:\u001b[49m\u001b[43m \u001b[49m\u001b[38;5;28;43mstr\u001b[39;49m\n\u001b[32m      3\u001b[39m \u001b[43m    \u001b[49m\u001b[43mlanguage_feedback\u001b[49m\u001b[43m:\u001b[49m\u001b[43m \u001b[49m\u001b[38;5;28;43mstr\u001b[39;49m\n",
      "\u001b[36mCell\u001b[39m\u001b[36m \u001b[39m\u001b[32mIn[21]\u001b[39m\u001b[32m, line 7\u001b[39m, in \u001b[36mUPSCState\u001b[39m\u001b[34m()\u001b[39m\n\u001b[32m      5\u001b[39m clarity_feedback: \u001b[38;5;28mstr\u001b[39m\n\u001b[32m      6\u001b[39m overall_feedback: \u001b[38;5;28mstr\u001b[39m\n\u001b[32m----> \u001b[39m\u001b[32m7\u001b[39m individual_scores: \u001b[43mAnnotated\u001b[49m[List[\u001b[38;5;28mint\u001b[39m], operator.add]\n",
      "\u001b[31mNameError\u001b[39m: name 'Annotated' is not defined"
     ]
    }
   ],
   "source": [
    "class UPSCState(TypedDict):\n",
    "    essay: str\n",
    "    language_feedback: str\n",
    "    analysis_feedback: str\n",
    "    clarity_feedback: str\n",
    "    overall_feedback: str\n",
    "    individual_scores: Annotated[List[int], operator.add]\n",
    "    avg.score: Float"
   ]
  },
  {
   "cell_type": "code",
   "execution_count": null,
   "id": "02bdae7a",
   "metadata": {},
   "outputs": [],
   "source": [
    "def evalaute_language(state: UPSCState):\n",
    "\n",
    "    prompt = f'''Evaluate the language quality of the following essay and provide feedback and assign a score out of 10\\n {state[\"essay\"]}'''\n",
    "    output = structured_model.invoke(prompt)\n",
    "\n",
    "    return{'language_feedback': output.feedback, 'individual_scores': {output.score}}"
   ]
  },
  {
   "cell_type": "code",
   "execution_count": null,
   "id": "daca46a2",
   "metadata": {},
   "outputs": [],
   "source": [
    "def evalaute_analysis(state: UPSCState):\n",
    "\n",
    "    prompt = f'''Evaluate the depth of analysis of the following essay and provide feedback and assign a score out of 10\\n {state[\"essay\"]}'''\n",
    "    output = structured_model.invoke(prompt)\n",
    "\n",
    "    return{'analysis_feedback': output.feedback, 'individual_scores': {output.score}}"
   ]
  },
  {
   "cell_type": "code",
   "execution_count": null,
   "id": "a25cb79c",
   "metadata": {},
   "outputs": [],
   "source": [
    "def evalaute_thought(state: UPSCState):\n",
    "\n",
    "    prompt = f'''Evaluate the clarity of thought of analysis of the following essay and provide feedback and assign a score out of 10\\n {state[\"essay\"]}'''\n",
    "    output = structured_model.invoke(prompt)\n",
    "\n",
    "    return{'clarity_feedback': output.feedback, 'individual_scores': {output.score}}"
   ]
  },
  {
   "cell_type": "code",
   "execution_count": null,
   "id": "f1cabd99",
   "metadata": {},
   "outputs": [],
   "source": [
    "def final_evaluation(state: UPSCState):\n",
    "    #Summary Feedback\n",
    "    prompt = f'Based on the following feedbacks create a summarized feedback \\n language feedback - {state[\"language_feedback\"]} \\n depth of analysis feedback - {state[\"analysis_feedback\"]} \\n clarity of thought feedback - {state[\"clarity_feedback\"]}'\n",
    "    overall_feedback = model.invoke(prompt).content\n",
    "    \n",
    "    #Avg calcluate\n",
    "\n",
    "    avg_score = sum(state['individual_scores'])/len(state['individual_scores'])\n",
    "\n",
    "    return {'overall_feedback':overall_feedback, 'avg_score':avg_score}\n"
   ]
  },
  {
   "cell_type": "code",
   "execution_count": null,
   "id": "b479ec30",
   "metadata": {},
   "outputs": [],
   "source": [
    "graph  = StateGraph(UPSCState)\n",
    "\n",
    "graph.add_node('evaluate_langauge',evaluate_langauge)\n",
    "graph.add_node('evaluate_analysis', evaluate_analysis)\n",
    "graph.add_node('evaluate_thought',evaluate_thought)\n",
    "graph.add_node('final_evaluation', final_evaluation)\n",
    "\n",
    "\n",
    "#Graph Edges\n",
    "\n",
    "graph.add_edge(START, 'evaluate_langauge')\n",
    "graph.add_edge(START, 'evaluate_analysis')\n",
    "graph.add_edge(START, 'evaluate_thought')\n",
    "\n",
    "graph.add_edge('evaluate_langauge', 'final_evaluation')\n",
    "graph.add_edge('evaluate_analysis', 'final_evaluation')\n",
    "graph.add_edge('evaluate_thought', 'final_evaluation')\n",
    "\n",
    "\n",
    "graph.add_edge('final_evaluation', END)\n",
    "\n",
    "workflow = graph.compile"
   ]
  },
  {
   "cell_type": "code",
   "execution_count": null,
   "id": "3fd3fd49",
   "metadata": {},
   "outputs": [],
   "source": [
    "intial_state = {\n",
    "    'essay' : essay\n",
    "}\n",
    "\n",
    "workflow.invoke(intial_state)"
   ]
  }
 ],
 "metadata": {
  "kernelspec": {
   "display_name": "MyEnv",
   "language": "python",
   "name": "python3"
  },
  "language_info": {
   "codemirror_mode": {
    "name": "ipython",
    "version": 3
   },
   "file_extension": ".py",
   "mimetype": "text/x-python",
   "name": "python",
   "nbconvert_exporter": "python",
   "pygments_lexer": "ipython3",
   "version": "3.13.5"
  }
 },
 "nbformat": 4,
 "nbformat_minor": 5
}
