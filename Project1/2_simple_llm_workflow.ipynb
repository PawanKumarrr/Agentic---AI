{
 "cells": [
  {
   "cell_type": "code",
   "execution_count": 57,
   "id": "5e91490b",
   "metadata": {},
   "outputs": [],
   "source": [
    "from langgraph.graph import StateGraph, START, END\n",
    "from langchain_openai import ChatOpenAI\n",
    "from typing import TypedDict\n",
    "from dotenv import load_dotenv"
   ]
  },
  {
   "cell_type": "code",
   "execution_count": 58,
   "id": "439a7577",
   "metadata": {},
   "outputs": [
    {
     "data": {
      "text/plain": [
       "True"
      ]
     },
     "execution_count": 58,
     "metadata": {},
     "output_type": "execute_result"
    }
   ],
   "source": [
    "load_dotenv()"
   ]
  },
  {
   "cell_type": "code",
   "execution_count": 1,
   "id": "f4989567",
   "metadata": {},
   "outputs": [],
   "source": [
    "# model = ChatOpenAI()"
   ]
  },
  {
   "cell_type": "code",
   "execution_count": 45,
   "id": "b560760b",
   "metadata": {},
   "outputs": [],
   "source": [
    "# Create a state\n",
    "\n",
    "class LLMState(TypedDict):\n",
    "\n",
    "    question: str\n",
    "    answer: str"
   ]
  },
  {
   "cell_type": "code",
   "execution_count": 46,
   "id": "41a29af4",
   "metadata": {},
   "outputs": [],
   "source": [
    "def llm_qa(state: LLMState) -> LLMState:\n",
    "\n",
    "\n",
    "    # Phele state mein se question extact kregeg\n",
    "    question = state['question']\n",
    "\n",
    "    # Prompt Bnayege \n",
    "    prompt = f'Answer the following question {question}'\n",
    "\n",
    "\n",
    "    # Ask that question to the LLM \n",
    "    answer = model.invoke(prompt).content\n",
    "\n",
    "    # Update the answer in the state\n",
    "\n",
    "    state['answer'] = answer\n",
    "\n",
    "    return state"
   ]
  },
  {
   "cell_type": "code",
   "execution_count": 50,
   "id": "efe6f335",
   "metadata": {},
   "outputs": [],
   "source": [
    "#Create your graph\n",
    "\n",
    "graph = StateGraph(LLMState)\n",
    "\n",
    "# Add Nodes\n",
    "graph.add_node('llm_qa',llm_qa)\n",
    "\n",
    "\n",
    "# Add Edges\n",
    "graph.add_edge(START, 'llm_qa')\n",
    "graph.add_edge('llm_qa', END)\n",
    "\n",
    "\n",
    "\n",
    "#Complie\n",
    "workflow = graph.compile()\n"
   ]
  },
  {
   "cell_type": "code",
   "execution_count": 2,
   "id": "67eced08",
   "metadata": {},
   "outputs": [],
   "source": [
    "# # Execute \n",
    "\n",
    "\n",
    "# initial_state = {'question': 'How far is moon from the earth?'}\n",
    "\n",
    "\n",
    "# final_state = workflow.invoke(initial_state)\n",
    "\n",
    "# print(final_state)"
   ]
  },
  {
   "cell_type": "code",
   "execution_count": 1,
   "id": "af2ae5ad",
   "metadata": {},
   "outputs": [
    {
     "name": "stdout",
     "output_type": "stream",
     "text": [
      "None\n"
     ]
    }
   ],
   "source": [
    "import os\n",
    "from dotenv import load_dotenv\n",
    "load_dotenv()\n",
    "print(os.getenv(\"\"))  # Should print your API key"
   ]
  },
  {
   "cell_type": "code",
   "execution_count": null,
   "id": "e1ce22c4",
   "metadata": {},
   "outputs": [],
   "source": []
  },
  {
   "cell_type": "code",
   "execution_count": null,
   "id": "26458354",
   "metadata": {},
   "outputs": [],
   "source": []
  },
  {
   "cell_type": "code",
   "execution_count": null,
   "id": "f8a783a3",
   "metadata": {},
   "outputs": [],
   "source": []
  }
 ],
 "metadata": {
  "kernelspec": {
   "display_name": "MyEnv",
   "language": "python",
   "name": "python3"
  },
  "language_info": {
   "codemirror_mode": {
    "name": "ipython",
    "version": 3
   },
   "file_extension": ".py",
   "mimetype": "text/x-python",
   "name": "python",
   "nbconvert_exporter": "python",
   "pygments_lexer": "ipython3",
   "version": "3.13.5"
  }
 },
 "nbformat": 4,
 "nbformat_minor": 5
}
